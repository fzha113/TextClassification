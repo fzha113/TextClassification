{
 "cells": [
  {
   "cell_type": "code",
   "execution_count": 1,
   "metadata": {},
   "outputs": [],
   "source": [
    "import pandas as pd\n",
    "import numpy as np\n",
    "import re\n",
    "import seaborn as sns\n",
    "from nltk.corpus import stopwords\n",
    "import matplotlib.pyplot as plt\n",
    "\n",
    "from sklearn.model_selection import train_test_split\n",
    "\n",
    "from sklearn.feature_extraction.text import TfidfTransformer \n",
    "from sklearn.feature_extraction.text import CountVectorizer\n",
    "\n",
    "from sklearn.naive_bayes import MultinomialNB\n",
    "from sklearn.pipeline import Pipeline\n",
    "from sklearn.feature_extraction.text import TfidfTransformer\n",
    "from sklearn.metrics import accuracy_score\n",
    "from sklearn.metrics import classification_report"
   ]
  },
  {
   "cell_type": "markdown",
   "metadata": {},
   "source": [
    "## Business Understanding\n",
    "\n",
    "### The task is a binary label's text classification. By training the original text and labels to predict new text's label."
   ]
  },
  {
   "cell_type": "markdown",
   "metadata": {},
   "source": [
    "## Input Data"
   ]
  },
  {
   "cell_type": "code",
   "execution_count": 2,
   "metadata": {},
   "outputs": [
    {
     "data": {
      "text/html": [
       "<div>\n",
       "<style scoped>\n",
       "    .dataframe tbody tr th:only-of-type {\n",
       "        vertical-align: middle;\n",
       "    }\n",
       "\n",
       "    .dataframe tbody tr th {\n",
       "        vertical-align: top;\n",
       "    }\n",
       "\n",
       "    .dataframe thead th {\n",
       "        text-align: right;\n",
       "    }\n",
       "</style>\n",
       "<table border=\"1\" class=\"dataframe\">\n",
       "  <thead>\n",
       "    <tr style=\"text-align: right;\">\n",
       "      <th></th>\n",
       "      <th>raw</th>\n",
       "    </tr>\n",
       "  </thead>\n",
       "  <tbody>\n",
       "    <tr>\n",
       "      <th>0</th>\n",
       "      <td>__label__2 Stuning even for the non-gamer: Thi...</td>\n",
       "    </tr>\n",
       "    <tr>\n",
       "      <th>1</th>\n",
       "      <td>__label__2 The best soundtrack ever to anythin...</td>\n",
       "    </tr>\n",
       "    <tr>\n",
       "      <th>2</th>\n",
       "      <td>__label__2 Amazing!: This soundtrack is my fav...</td>\n",
       "    </tr>\n",
       "    <tr>\n",
       "      <th>3</th>\n",
       "      <td>__label__2 Excellent Soundtrack: I truly like ...</td>\n",
       "    </tr>\n",
       "    <tr>\n",
       "      <th>4</th>\n",
       "      <td>__label__2 Remember, Pull Your Jaw Off The Flo...</td>\n",
       "    </tr>\n",
       "    <tr>\n",
       "      <th>5</th>\n",
       "      <td>__label__2 an absolute masterpiece: I am quite...</td>\n",
       "    </tr>\n",
       "    <tr>\n",
       "      <th>6</th>\n",
       "      <td>__label__1 Buyer beware: This is a self-publis...</td>\n",
       "    </tr>\n",
       "    <tr>\n",
       "      <th>7</th>\n",
       "      <td>__label__2 Glorious story: I loved Whisper of ...</td>\n",
       "    </tr>\n",
       "    <tr>\n",
       "      <th>8</th>\n",
       "      <td>__label__2 A FIVE STAR BOOK: I just finished r...</td>\n",
       "    </tr>\n",
       "    <tr>\n",
       "      <th>9</th>\n",
       "      <td>__label__2 Whispers of the Wicked Saints: This...</td>\n",
       "    </tr>\n",
       "  </tbody>\n",
       "</table>\n",
       "</div>"
      ],
      "text/plain": [
       "                                                 raw\n",
       "0  __label__2 Stuning even for the non-gamer: Thi...\n",
       "1  __label__2 The best soundtrack ever to anythin...\n",
       "2  __label__2 Amazing!: This soundtrack is my fav...\n",
       "3  __label__2 Excellent Soundtrack: I truly like ...\n",
       "4  __label__2 Remember, Pull Your Jaw Off The Flo...\n",
       "5  __label__2 an absolute masterpiece: I am quite...\n",
       "6  __label__1 Buyer beware: This is a self-publis...\n",
       "7  __label__2 Glorious story: I loved Whisper of ...\n",
       "8  __label__2 A FIVE STAR BOOK: I just finished r...\n",
       "9  __label__2 Whispers of the Wicked Saints: This..."
      ]
     },
     "execution_count": 2,
     "metadata": {},
     "output_type": "execute_result"
    }
   ],
   "source": [
    "df = pd.read_table('./dataset_of_text_classification.txt',header=None)\n",
    "df.columns = ['raw']\n",
    "df.head(10)"
   ]
  },
  {
   "cell_type": "code",
   "execution_count": 3,
   "metadata": {},
   "outputs": [
    {
     "data": {
      "text/html": [
       "<div>\n",
       "<style scoped>\n",
       "    .dataframe tbody tr th:only-of-type {\n",
       "        vertical-align: middle;\n",
       "    }\n",
       "\n",
       "    .dataframe tbody tr th {\n",
       "        vertical-align: top;\n",
       "    }\n",
       "\n",
       "    .dataframe thead th {\n",
       "        text-align: right;\n",
       "    }\n",
       "</style>\n",
       "<table border=\"1\" class=\"dataframe\">\n",
       "  <thead>\n",
       "    <tr style=\"text-align: right;\">\n",
       "      <th></th>\n",
       "      <th>raw</th>\n",
       "      <th>label</th>\n",
       "      <th>text</th>\n",
       "    </tr>\n",
       "  </thead>\n",
       "  <tbody>\n",
       "    <tr>\n",
       "      <th>0</th>\n",
       "      <td>__label__2 Stuning even for the non-gamer: Thi...</td>\n",
       "      <td>__label__2</td>\n",
       "      <td>Stuning even for the non-gamer: This sound tr...</td>\n",
       "    </tr>\n",
       "    <tr>\n",
       "      <th>1</th>\n",
       "      <td>__label__2 The best soundtrack ever to anythin...</td>\n",
       "      <td>__label__2</td>\n",
       "      <td>The best soundtrack ever to anything.: I'm re...</td>\n",
       "    </tr>\n",
       "    <tr>\n",
       "      <th>2</th>\n",
       "      <td>__label__2 Amazing!: This soundtrack is my fav...</td>\n",
       "      <td>__label__2</td>\n",
       "      <td>Amazing!: This soundtrack is my favorite musi...</td>\n",
       "    </tr>\n",
       "    <tr>\n",
       "      <th>3</th>\n",
       "      <td>__label__2 Excellent Soundtrack: I truly like ...</td>\n",
       "      <td>__label__2</td>\n",
       "      <td>Excellent Soundtrack: I truly like this sound...</td>\n",
       "    </tr>\n",
       "    <tr>\n",
       "      <th>4</th>\n",
       "      <td>__label__2 Remember, Pull Your Jaw Off The Flo...</td>\n",
       "      <td>__label__2</td>\n",
       "      <td>Remember, Pull Your Jaw Off The Floor After H...</td>\n",
       "    </tr>\n",
       "    <tr>\n",
       "      <th>5</th>\n",
       "      <td>__label__2 an absolute masterpiece: I am quite...</td>\n",
       "      <td>__label__2</td>\n",
       "      <td>an absolute masterpiece: I am quite sure any ...</td>\n",
       "    </tr>\n",
       "    <tr>\n",
       "      <th>6</th>\n",
       "      <td>__label__1 Buyer beware: This is a self-publis...</td>\n",
       "      <td>__label__1</td>\n",
       "      <td>Buyer beware: This is a self-published book, ...</td>\n",
       "    </tr>\n",
       "    <tr>\n",
       "      <th>7</th>\n",
       "      <td>__label__2 Glorious story: I loved Whisper of ...</td>\n",
       "      <td>__label__2</td>\n",
       "      <td>Glorious story: I loved Whisper of the wicked...</td>\n",
       "    </tr>\n",
       "    <tr>\n",
       "      <th>8</th>\n",
       "      <td>__label__2 A FIVE STAR BOOK: I just finished r...</td>\n",
       "      <td>__label__2</td>\n",
       "      <td>A FIVE STAR BOOK: I just finished reading Whi...</td>\n",
       "    </tr>\n",
       "    <tr>\n",
       "      <th>9</th>\n",
       "      <td>__label__2 Whispers of the Wicked Saints: This...</td>\n",
       "      <td>__label__2</td>\n",
       "      <td>Whispers of the Wicked Saints: This was a eas...</td>\n",
       "    </tr>\n",
       "    <tr>\n",
       "      <th>10</th>\n",
       "      <td>__label__1 The Worst!: A complete waste of tim...</td>\n",
       "      <td>__label__1</td>\n",
       "      <td>The Worst!: A complete waste of time. Typogra...</td>\n",
       "    </tr>\n",
       "    <tr>\n",
       "      <th>11</th>\n",
       "      <td>__label__2 Great book: This was a great book,I...</td>\n",
       "      <td>__label__2</td>\n",
       "      <td>Great book: This was a great book,I just coul...</td>\n",
       "    </tr>\n",
       "    <tr>\n",
       "      <th>12</th>\n",
       "      <td>__label__2 Great Read: I thought this book was...</td>\n",
       "      <td>__label__2</td>\n",
       "      <td>Great Read: I thought this book was brilliant...</td>\n",
       "    </tr>\n",
       "    <tr>\n",
       "      <th>13</th>\n",
       "      <td>__label__1 Oh please: I guess you have to be a...</td>\n",
       "      <td>__label__1</td>\n",
       "      <td>Oh please: I guess you have to be a romance n...</td>\n",
       "    </tr>\n",
       "    <tr>\n",
       "      <th>14</th>\n",
       "      <td>__label__1 Awful beyond belief!: I feel I have...</td>\n",
       "      <td>__label__1</td>\n",
       "      <td>Awful beyond belief!: I feel I have to write ...</td>\n",
       "    </tr>\n",
       "    <tr>\n",
       "      <th>15</th>\n",
       "      <td>__label__1 Don't try to fool us with fake revi...</td>\n",
       "      <td>__label__1</td>\n",
       "      <td>Don't try to fool us with fake reviews.: It's...</td>\n",
       "    </tr>\n",
       "    <tr>\n",
       "      <th>16</th>\n",
       "      <td>__label__2 A romantic zen baseball comedy: Whe...</td>\n",
       "      <td>__label__2</td>\n",
       "      <td>A romantic zen baseball comedy: When you hear...</td>\n",
       "    </tr>\n",
       "    <tr>\n",
       "      <th>17</th>\n",
       "      <td>__label__2 Fashionable Compression Stockings!:...</td>\n",
       "      <td>__label__2</td>\n",
       "      <td>Fashionable Compression Stockings!: After I h...</td>\n",
       "    </tr>\n",
       "    <tr>\n",
       "      <th>18</th>\n",
       "      <td>__label__2 Jobst UltraSheer Thigh High: Excell...</td>\n",
       "      <td>__label__2</td>\n",
       "      <td>Jobst UltraSheer Thigh High: Excellent produc...</td>\n",
       "    </tr>\n",
       "    <tr>\n",
       "      <th>19</th>\n",
       "      <td>__label__1 sizes recomended in the size chart ...</td>\n",
       "      <td>__label__1</td>\n",
       "      <td>sizes recomended in the size chart are not re...</td>\n",
       "    </tr>\n",
       "  </tbody>\n",
       "</table>\n",
       "</div>"
      ],
      "text/plain": [
       "                                                  raw       label  \\\n",
       "0   __label__2 Stuning even for the non-gamer: Thi...  __label__2   \n",
       "1   __label__2 The best soundtrack ever to anythin...  __label__2   \n",
       "2   __label__2 Amazing!: This soundtrack is my fav...  __label__2   \n",
       "3   __label__2 Excellent Soundtrack: I truly like ...  __label__2   \n",
       "4   __label__2 Remember, Pull Your Jaw Off The Flo...  __label__2   \n",
       "5   __label__2 an absolute masterpiece: I am quite...  __label__2   \n",
       "6   __label__1 Buyer beware: This is a self-publis...  __label__1   \n",
       "7   __label__2 Glorious story: I loved Whisper of ...  __label__2   \n",
       "8   __label__2 A FIVE STAR BOOK: I just finished r...  __label__2   \n",
       "9   __label__2 Whispers of the Wicked Saints: This...  __label__2   \n",
       "10  __label__1 The Worst!: A complete waste of tim...  __label__1   \n",
       "11  __label__2 Great book: This was a great book,I...  __label__2   \n",
       "12  __label__2 Great Read: I thought this book was...  __label__2   \n",
       "13  __label__1 Oh please: I guess you have to be a...  __label__1   \n",
       "14  __label__1 Awful beyond belief!: I feel I have...  __label__1   \n",
       "15  __label__1 Don't try to fool us with fake revi...  __label__1   \n",
       "16  __label__2 A romantic zen baseball comedy: Whe...  __label__2   \n",
       "17  __label__2 Fashionable Compression Stockings!:...  __label__2   \n",
       "18  __label__2 Jobst UltraSheer Thigh High: Excell...  __label__2   \n",
       "19  __label__1 sizes recomended in the size chart ...  __label__1   \n",
       "\n",
       "                                                 text  \n",
       "0    Stuning even for the non-gamer: This sound tr...  \n",
       "1    The best soundtrack ever to anything.: I'm re...  \n",
       "2    Amazing!: This soundtrack is my favorite musi...  \n",
       "3    Excellent Soundtrack: I truly like this sound...  \n",
       "4    Remember, Pull Your Jaw Off The Floor After H...  \n",
       "5    an absolute masterpiece: I am quite sure any ...  \n",
       "6    Buyer beware: This is a self-published book, ...  \n",
       "7    Glorious story: I loved Whisper of the wicked...  \n",
       "8    A FIVE STAR BOOK: I just finished reading Whi...  \n",
       "9    Whispers of the Wicked Saints: This was a eas...  \n",
       "10   The Worst!: A complete waste of time. Typogra...  \n",
       "11   Great book: This was a great book,I just coul...  \n",
       "12   Great Read: I thought this book was brilliant...  \n",
       "13   Oh please: I guess you have to be a romance n...  \n",
       "14   Awful beyond belief!: I feel I have to write ...  \n",
       "15   Don't try to fool us with fake reviews.: It's...  \n",
       "16   A romantic zen baseball comedy: When you hear...  \n",
       "17   Fashionable Compression Stockings!: After I h...  \n",
       "18   Jobst UltraSheer Thigh High: Excellent produc...  \n",
       "19   sizes recomended in the size chart are not re...  "
      ]
     },
     "execution_count": 3,
     "metadata": {},
     "output_type": "execute_result"
    }
   ],
   "source": [
    "# Extracting label column into a new column\n",
    "df['label'] = df['raw'].str.extract('(__label__.)', expand=True)\n",
    "\n",
    "# Remove the label from the raw text, and The rest of the text is extracted into a new column\n",
    "df['text'] = df['raw'].str.replace('(__label__.)','')\n",
    "df.head(20)"
   ]
  },
  {
   "cell_type": "markdown",
   "metadata": {},
   "source": [
    "## Data Exploration"
   ]
  },
  {
   "cell_type": "code",
   "execution_count": 4,
   "metadata": {},
   "outputs": [
    {
     "data": {
      "text/plain": [
       "805532"
      ]
     },
     "execution_count": 4,
     "metadata": {},
     "output_type": "execute_result"
    }
   ],
   "source": [
    "df['text'].apply(lambda x: len(x.split(' '))).sum()"
   ]
  },
  {
   "cell_type": "code",
   "execution_count": 5,
   "metadata": {},
   "outputs": [
    {
     "data": {
      "text/plain": [
       "[Text(0, 0.5, 'count'),\n",
       " Text(0.5, 0, 'label'),\n",
       " Text(0.5, 1.0, 'number of labels in each category')]"
      ]
     },
     "execution_count": 5,
     "metadata": {},
     "output_type": "execute_result"
    },
    {
     "data": {
      "image/png": "[encoded data removed]",
      "text/plain": [
       "<Figure size 432x288 with 1 Axes>"
      ]
     },
     "metadata": {
      "needs_background": "light"
     },
     "output_type": "display_data"
    }
   ],
   "source": [
    "fig,ax = plt.subplots()\n",
    "sns.barplot(x= df.label.unique(),y= df.label.value_counts())\n",
    "ax.set(xlabel='label', ylabel='count',title=\"number of labels in each category\")"
   ]
  },
  {
   "cell_type": "code",
   "execution_count": 6,
   "metadata": {},
   "outputs": [
    {
     "name": "stdout",
     "output_type": "stream",
     "text": [
      "label: __label__2\n",
      "text:  Stuning even for the non-gamer: This sound track was beautiful! It paints the senery in your mind so well I would recomend it even to people who hate vid. game music! I have played the game Chrono Cross but out of all of the games I have ever played it has the best music! It backs away from crude keyboarding and takes a fresher step with grate guitars and soulful orchestras. It would impress anyone who cares to listen! ^_^\n",
      "\t\n",
      "label: __label__1\n",
      "text:  mens ultrasheer: This model may be ok for sedentary types, but I'm active and get around alot in my job - consistently found these stockings rolled up down by my ankles! Not Good!! Solution: go with the standard compression stocking, 20-30, stock #114622. Excellent support, stays up and gives me what I need. Both pair of these also tore as I struggled to pull them up all the time. Good riddance/bad investment!\n",
      "\t\n",
      "label: __label__2\n",
      "text:  textbook: Book shipped quickly and was in excellent condition as stated. Easy transaction would buy again\n",
      "\t\n"
     ]
    }
   ],
   "source": [
    "def print_plot(index, text_column):\n",
    "    example = df[df.index == index][['label', text_column]].values[0]\n",
    "    if len(example) > 0:\n",
    "        print('label:', example[0])\n",
    "        print('text:', example[1])\n",
    "        print('\\t')\n",
    "        \n",
    "print_plot(0, 'text')\n",
    "print_plot(20, 'text')\n",
    "print_plot(100, 'text')"
   ]
  },
  {
   "cell_type": "markdown",
   "metadata": {},
   "source": [
    "## Feature Engineering: Removing stop words"
   ]
  },
  {
   "cell_type": "code",
   "execution_count": 7,
   "metadata": {},
   "outputs": [
    {
     "name": "stdout",
     "output_type": "stream",
     "text": [
      "label: one\n",
      "text: one\n",
      "\t\n",
      "label: one\n",
      "text: mens ultrasheer model may ok sedentary types im active get around alot job consistently found stockings rolled ankles good solution go standard compression stocking 2030 stock 114622 excellent support stays gives need pair also tore struggled pull time good riddance bad investment\n",
      "\t\n"
     ]
    }
   ],
   "source": [
    "REPLACE_BY_SPACE_RE = re.compile('[#_/(){}\\[\\]\\|@,;]')\n",
    "BAD_SYMBOLS_RE = re.compile('[^0-9a-z #+_]')\n",
    "STOPWORDS = set(stopwords.words('english'))\n",
    "\n",
    "\n",
    "def clean_text(text):\n",
    "    \"\"\"\n",
    "        text: a string\n",
    "        \n",
    "        return: modified initial string\n",
    "    \"\"\"\n",
    "    text = text.lower() # lowercase text\n",
    "    text = REPLACE_BY_SPACE_RE.sub(' ', text) # replace REPLACE_BY_SPACE_RE symbols by space in text\n",
    "    text = BAD_SYMBOLS_RE.sub('', text) # delete symbols which are in BAD_SYMBOLS_RE from text\n",
    "    text = ' '.join(word for word in text.split() if word not in STOPWORDS) # delete stopwors from text\n",
    "    return text\n",
    "\n",
    "df['clean_text'] = df['text'].apply(clean_text)\n",
    "\n",
    "df['label'].loc[df['label'] == '__label__1'] = 'one'\n",
    "df['label'].loc[df['label'] == '__label__2'] = 'two'\n",
    "\n",
    "print_plot(20, 'label')\n",
    "print_plot(20, 'clean_text')"
   ]
  },
  {
   "cell_type": "code",
   "execution_count": 8,
   "metadata": {},
   "outputs": [
    {
     "data": {
      "text/plain": [
       "412692"
      ]
     },
     "execution_count": 8,
     "metadata": {},
     "output_type": "execute_result"
    }
   ],
   "source": [
    "df['clean_text'].apply(lambda x: len(x.split(' '))).sum()"
   ]
  },
  {
   "cell_type": "markdown",
   "metadata": {},
   "source": [
    "##  Feature Engineering: Tokenization"
   ]
  },
  {
   "cell_type": "markdown",
   "metadata": {},
   "source": [
    "#### For the tokenizating, we take 5000 most common words and we set up the words not in the word_index as the '< OOV \\>'"
   ]
  },
  {
   "cell_type": "code",
   "execution_count": 9,
   "metadata": {},
   "outputs": [
    {
     "data": {
      "text/plain": [
       "{'<OOV>': 1,\n",
       " 'book': 2,\n",
       " 'one': 3,\n",
       " 'like': 4,\n",
       " 'good': 5,\n",
       " 'read': 6,\n",
       " 'great': 7,\n",
       " 'movie': 8,\n",
       " 'would': 9,\n",
       " 'get': 10}"
      ]
     },
     "execution_count": 9,
     "metadata": {},
     "output_type": "execute_result"
    }
   ],
   "source": [
    "from tensorflow.keras.preprocessing.text import Tokenizer\n",
    "from tensorflow.keras.preprocessing.sequence import pad_sequences\n",
    "\n",
    "text = df['clean_text']\n",
    "vocab_size = 20000\n",
    "oov_tok = '<OOV>'\n",
    "# oov_token is to put a special value in when an unseen word is encountered.\n",
    "# (if words is not in the index that we could use <OOV>)\n",
    "\n",
    "tokenizer = Tokenizer(num_words = vocab_size, oov_token=oov_tok)\n",
    "\n",
    "# go through all the text and create dictonary\n",
    "tokenizer.fit_on_texts(text)\n",
    "word_index = tokenizer.word_index\n",
    "dict(list(word_index.items())[0:10])"
   ]
  },
  {
   "cell_type": "markdown",
   "metadata": {},
   "source": [
    "#### We can see that '< OOV \\>' is the most common token in our corpus, followed by “book”, followed by “one” and so on."
   ]
  },
  {
   "cell_type": "markdown",
   "metadata": {},
   "source": [
    "##  Feature Engineering: Sequence padding"
   ]
  },
  {
   "cell_type": "code",
   "execution_count": 10,
   "metadata": {},
   "outputs": [
    {
     "name": "stdout",
     "output_type": "stream",
     "text": [
      "17\n",
      "64\n",
      "46\n",
      "39\n",
      "66\n",
      "11\n",
      "18\n",
      "21\n",
      "31\n",
      "46\n",
      "31\n",
      "32\n",
      "43\n",
      "61\n"
     ]
    }
   ],
   "source": [
    "# turn those tokens into lists of sequence.\n",
    "X = tokenizer.texts_to_sequences(df['clean_text'].values)\n",
    "for i in X[199:213]:\n",
    "    print(len(i))"
   ]
  },
  {
   "cell_type": "markdown",
   "metadata": {},
   "source": [
    "#### From the sequence we could know that sentences vary in length, we need to make all of our sentences the same length which I set up as 85. if text length is 35, we padded to 85, and we padded at the end with zeros."
   ]
  },
  {
   "cell_type": "code",
   "execution_count": 11,
   "metadata": {},
   "outputs": [
    {
     "name": "stdout",
     "output_type": "stream",
     "text": [
      "Shape of data tensor: (10000, 85)\n"
     ]
    }
   ],
   "source": [
    "X = tokenizer.texts_to_sequences(df['clean_text'].values)\n",
    "\n",
    "X = pad_sequences(X, maxlen=85, padding='post')\n",
    "\n",
    "print('Shape of data tensor:', X.shape)"
   ]
  },
  {
   "cell_type": "code",
   "execution_count": 12,
   "metadata": {},
   "outputs": [
    {
     "name": "stdout",
     "output_type": "stream",
     "text": [
      "Shape of label tensor: (10000,)\n"
     ]
    }
   ],
   "source": [
    "Y = df['label'].factorize()[0]\n",
    "print('Shape of label tensor:', Y.shape)"
   ]
  },
  {
   "cell_type": "markdown",
   "metadata": {},
   "source": [
    "##  Feature Engineering: Train — test split\n",
    "\n",
    "Spiliting data set into tran dataset and test dataset, there are some methods we choose:\n",
    "* 80% for training dataset and 20% for testing dataset\n"
   ]
  },
  {
   "cell_type": "code",
   "execution_count": 13,
   "metadata": {},
   "outputs": [
    {
     "name": "stdout",
     "output_type": "stream",
     "text": [
      "(8000, 85) (8000,)\n",
      "(2000, 85) (2000,)\n"
     ]
    }
   ],
   "source": [
    "X_train, X_test, Y_train, Y_test = train_test_split(X,Y, test_size = 0.20, random_state = 42)\n",
    "print(X_train.shape,Y_train.shape)\n",
    "print(X_test.shape,Y_test.shape)"
   ]
  },
  {
   "cell_type": "code",
   "execution_count": 14,
   "metadata": {
    "scrolled": true
   },
   "outputs": [
    {
     "name": "stdout",
     "output_type": "stream",
     "text": [
      "hard read hard read <OOV> student never point ineptly organised jargon type language really necessary worth youre actually studying subject advanced interest <OOV> 0 0 0 0 0 0 0 0 0 0 0 0 0 0 0 0 0 0 0 0 0 0 0 0 0 0 0 0 0 0 0 0 0 0 0 0 0 0 0 0 0 0 0 0 0 0 0 0 0 0 0 0 0 0 0 0 0 0 0 0 0 0\n",
      "---\n",
      "[   90     6    90     6     1   999    38   205 15714 13234 10209   402\n",
      "   394    13  1615    76   218   134  2478   730  1893   572     1     0\n",
      "     0     0     0     0     0     0     0     0     0     0     0     0\n",
      "     0     0     0     0     0     0     0     0     0     0     0     0\n",
      "     0     0     0     0     0     0     0     0     0     0     0     0\n",
      "     0     0     0     0     0     0     0     0     0     0     0     0\n",
      "     0     0     0     0     0     0     0     0     0     0     0     0\n",
      "     0]\n"
     ]
    }
   ],
   "source": [
    "# exploring what our original article and article after padding look like. \n",
    "reverse_word_index = dict([(value, key) for (key, value) in word_index.items()])\n",
    "\n",
    "def decode_article(text):\n",
    "    return ' '.join([reverse_word_index.get(i, '0') for i in text])\n",
    "\n",
    "print(decode_article(X_train[10]))\n",
    "print('---')\n",
    "print(X_train[10])"
   ]
  },
  {
   "cell_type": "markdown",
   "metadata": {},
   "source": [
    "## Building NN"
   ]
  },
  {
   "cell_type": "code",
   "execution_count": 15,
   "metadata": {
    "scrolled": true
   },
   "outputs": [
    {
     "name": "stdout",
     "output_type": "stream",
     "text": [
      "Model: \"sequential\"\n",
      "_________________________________________________________________\n",
      "Layer (type)                 Output Shape              Param #   \n",
      "=================================================================\n",
      "embedding (Embedding)        (None, None, 16)          320000    \n",
      "_________________________________________________________________\n",
      "global_average_pooling1d (Gl (None, 16)                0         \n",
      "_________________________________________________________________\n",
      "dense (Dense)                (None, 16)                272       \n",
      "_________________________________________________________________\n",
      "dense_1 (Dense)              (None, 1)                 17        \n",
      "=================================================================\n",
      "Total params: 320,289\n",
      "Trainable params: 320,289\n",
      "Non-trainable params: 0\n",
      "_________________________________________________________________\n"
     ]
    }
   ],
   "source": [
    "import tensorflow as tf\n",
    "\n",
    "vocab_size = 20000\n",
    "\n",
    "model = tf.keras.Sequential()\n",
    "model.add(tf.keras.layers.Embedding(vocab_size, 16))\n",
    "model.add(tf.keras.layers.GlobalAveragePooling1D())\n",
    "model.add(tf.keras.layers.Dense(16, activation='relu'))\n",
    "model.add(tf.keras.layers.Dense(1, activation='sigmoid'))\n",
    "\n",
    "model.summary()"
   ]
  },
  {
   "cell_type": "markdown",
   "metadata": {},
   "source": [
    "## Building Loss function and optimizer"
   ]
  },
  {
   "cell_type": "code",
   "execution_count": 16,
   "metadata": {},
   "outputs": [],
   "source": [
    "model.compile(optimizer='adam',\n",
    "              loss='binary_crossentropy',\n",
    "              metrics=['accuracy'])"
   ]
  },
  {
   "cell_type": "markdown",
   "metadata": {},
   "source": [
    "## Running NN"
   ]
  },
  {
   "cell_type": "code",
   "execution_count": 17,
   "metadata": {},
   "outputs": [
    {
     "name": "stdout",
     "output_type": "stream",
     "text": [
      "Epoch 1/20\n",
      "16/16 [==============================] - 0s 15ms/step - loss: 0.6924 - accuracy: 0.5972 - val_loss: 0.6914 - val_accuracy: 0.6705\n",
      "Epoch 2/20\n",
      "16/16 [==============================] - 0s 9ms/step - loss: 0.6896 - accuracy: 0.7236 - val_loss: 0.6887 - val_accuracy: 0.7165\n",
      "Epoch 3/20\n",
      "16/16 [==============================] - 0s 9ms/step - loss: 0.6851 - accuracy: 0.7577 - val_loss: 0.6841 - val_accuracy: 0.7050\n",
      "Epoch 4/20\n",
      "16/16 [==============================] - 0s 9ms/step - loss: 0.6774 - accuracy: 0.7548 - val_loss: 0.6770 - val_accuracy: 0.7490\n",
      "Epoch 5/20\n",
      "16/16 [==============================] - 0s 9ms/step - loss: 0.6664 - accuracy: 0.8035 - val_loss: 0.6673 - val_accuracy: 0.7595\n",
      "Epoch 6/20\n",
      "16/16 [==============================] - 0s 9ms/step - loss: 0.6516 - accuracy: 0.8490 - val_loss: 0.6545 - val_accuracy: 0.7765\n",
      "Epoch 7/20\n",
      "16/16 [==============================] - 0s 9ms/step - loss: 0.6325 - accuracy: 0.8535 - val_loss: 0.6382 - val_accuracy: 0.7980\n",
      "Epoch 8/20\n",
      "16/16 [==============================] - 0s 9ms/step - loss: 0.6086 - accuracy: 0.8587 - val_loss: 0.6194 - val_accuracy: 0.7850\n",
      "Epoch 9/20\n",
      "16/16 [==============================] - 0s 9ms/step - loss: 0.5806 - accuracy: 0.8819 - val_loss: 0.5968 - val_accuracy: 0.8100\n",
      "Epoch 10/20\n",
      "16/16 [==============================] - 0s 9ms/step - loss: 0.5492 - accuracy: 0.8938 - val_loss: 0.5730 - val_accuracy: 0.8075\n",
      "Epoch 11/20\n",
      "16/16 [==============================] - 0s 9ms/step - loss: 0.5155 - accuracy: 0.8888 - val_loss: 0.5478 - val_accuracy: 0.8115\n",
      "Epoch 12/20\n",
      "16/16 [==============================] - 0s 9ms/step - loss: 0.4808 - accuracy: 0.9039 - val_loss: 0.5233 - val_accuracy: 0.8120\n",
      "Epoch 13/20\n",
      "16/16 [==============================] - 0s 9ms/step - loss: 0.4459 - accuracy: 0.9104 - val_loss: 0.4988 - val_accuracy: 0.8215\n",
      "Epoch 14/20\n",
      "16/16 [==============================] - 0s 9ms/step - loss: 0.4123 - accuracy: 0.9170 - val_loss: 0.4758 - val_accuracy: 0.8300\n",
      "Epoch 15/20\n",
      "16/16 [==============================] - 0s 9ms/step - loss: 0.3806 - accuracy: 0.9226 - val_loss: 0.4551 - val_accuracy: 0.8355\n",
      "Epoch 16/20\n",
      "16/16 [==============================] - 0s 10ms/step - loss: 0.3512 - accuracy: 0.9277 - val_loss: 0.4364 - val_accuracy: 0.8420\n",
      "Epoch 17/20\n",
      "16/16 [==============================] - 0s 9ms/step - loss: 0.3244 - accuracy: 0.9299 - val_loss: 0.4201 - val_accuracy: 0.8460\n",
      "Epoch 18/20\n",
      "16/16 [==============================] - 0s 8ms/step - loss: 0.3002 - accuracy: 0.9341 - val_loss: 0.4060 - val_accuracy: 0.8490\n",
      "Epoch 19/20\n",
      "16/16 [==============================] - 0s 10ms/step - loss: 0.2786 - accuracy: 0.9375 - val_loss: 0.3939 - val_accuracy: 0.8520\n",
      "Epoch 20/20\n",
      "16/16 [==============================] - 0s 9ms/step - loss: 0.2592 - accuracy: 0.9414 - val_loss: 0.3859 - val_accuracy: 0.8470\n"
     ]
    }
   ],
   "source": [
    "history = model.fit(X_train,\n",
    "                    Y_train,\n",
    "                    epochs=20,\n",
    "                    batch_size=512,\n",
    "                    validation_data=(X_test, Y_test),\n",
    "                    verbose=1)"
   ]
  },
  {
   "cell_type": "markdown",
   "metadata": {},
   "source": [
    "## Model Evalution"
   ]
  },
  {
   "cell_type": "code",
   "execution_count": 18,
   "metadata": {},
   "outputs": [
    {
     "name": "stdout",
     "output_type": "stream",
     "text": [
      "63/63 - 0s - loss: 0.3859 - accuracy: 0.8470\n",
      "[0.3858998119831085, 0.847000002861023]\n"
     ]
    }
   ],
   "source": [
    "results = model.evaluate(X_test,  Y_test, verbose=2)\n",
    "\n",
    "print(results)"
   ]
  },
  {
   "cell_type": "markdown",
   "metadata": {},
   "source": [
    "## Accuracy and Loss plot"
   ]
  },
  {
   "cell_type": "code",
   "execution_count": 19,
   "metadata": {},
   "outputs": [
    {
     "data": {
      "text/plain": [
       "dict_keys(['loss', 'accuracy', 'val_loss', 'val_accuracy'])"
      ]
     },
     "execution_count": 19,
     "metadata": {},
     "output_type": "execute_result"
    }
   ],
   "source": [
    "history_dict = history.history\n",
    "history_dict.keys()"
   ]
  },
  {
   "cell_type": "code",
   "execution_count": 20,
   "metadata": {},
   "outputs": [
    {
     "data": {
      "image/png": "[encoded data removed]",
      "text/plain": [
       "<Figure size 432x288 with 1 Axes>"
      ]
     },
     "metadata": {
      "needs_background": "light"
     },
     "output_type": "display_data"
    }
   ],
   "source": [
    "import matplotlib.pyplot as plt\n",
    "\n",
    "acc = history_dict['accuracy']\n",
    "val_acc = history_dict['val_accuracy']\n",
    "loss = history_dict['loss']\n",
    "val_loss = history_dict['val_loss']\n",
    "\n",
    "epochs = range(1, len(acc) + 1)\n",
    "\n",
    "plt.plot(epochs, loss, 'bo', label='Training loss')\n",
    "\n",
    "plt.plot(epochs, val_loss, 'b', label='Validation loss')\n",
    "plt.title('Training and validation loss')\n",
    "plt.xlabel('Epochs')\n",
    "plt.ylabel('Loss')\n",
    "plt.legend()\n",
    "\n",
    "plt.show()"
   ]
  },
  {
   "cell_type": "code",
   "execution_count": 21,
   "metadata": {},
   "outputs": [
    {
     "data": {
      "image/png": "[encoded data removed]",
      "text/plain": [
       "<Figure size 432x288 with 1 Axes>"
      ]
     },
     "metadata": {
      "needs_background": "light"
     },
     "output_type": "display_data"
    }
   ],
   "source": [
    "plt.clf()   # elimating numbers\n",
    "\n",
    "plt.plot(epochs, acc, 'bo', label='Training acc')\n",
    "plt.plot(epochs, val_acc, 'b', label='Validation acc')\n",
    "plt.title('Training and validation accuracy')\n",
    "plt.xlabel('Epochs')\n",
    "plt.ylabel('Accuracy')\n",
    "plt.legend()\n",
    "\n",
    "plt.show()"
   ]
  },
  {
   "cell_type": "markdown",
   "metadata": {},
   "source": [
    "#### From the loss and accuracy plot we can know that after about 13,14 epochs the model overfitted, we probably need to back off to 15 epochs. In the meanwhile, our model accuracy has the potential to improve to 95%, we can give more try on feature engineering part which is using tf-idf or word2vec model to encode our text. Or in the model building part try to reduce the capacity of the network. "
   ]
  }
 ],
 "metadata": {
  "kernelspec": {
   "display_name": "Python 3",
   "language": "python",
   "name": "python3"
  },
  "language_info": {
   "codemirror_mode": {
    "name": "ipython",
    "version": 3
   },
   "file_extension": ".py",
   "mimetype": "text/x-python",
   "name": "python",
   "nbconvert_exporter": "python",
   "pygments_lexer": "ipython3",
   "version": "3.7.6"
  }
 },
 "nbformat": 4,
 "nbformat_minor": 4
}
